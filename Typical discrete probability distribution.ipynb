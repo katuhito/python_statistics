{
 "cells": [
  {
   "cell_type": "code",
   "execution_count": 1,
   "metadata": {},
   "outputs": [],
   "source": [
    "\"\"\"代表的な離散型確率分布\"\"\"\n",
    "#推測統計では限られた標本から母集団の平均や分散といった指標を推定することが目的である。しかし、母集団の確率分布の形状に何も置かないでそのような指標を推定することは簡単なものではない。このように母集団の確率分布に何の家庭も置かないことを「ノンパラメトリック」な手法という。\n",
    "#パラメトリック：ノンパラメトリックと対象となるのがパラメトリックな手法である。これは、母集団はこういう性質のはずだからこんな形状を持った確率分布だろうとある程度仮定を置いて、後は確率分布の期待値や分散を決定する小数のパラメタのみを推測する方法である。\n",
    "\n",
    "#ライブラリのインポート\n",
    "import numpy as np\n",
    "import matplotlib.pyplot as plt\n",
    "from scipy import stats\n",
    "\n",
    "%precision 3\n",
    "%matplotlib inline"
   ]
  },
  {
   "cell_type": "code",
   "execution_count": 2,
   "metadata": {},
   "outputs": [],
   "source": [
    "# グラフの線の種類\n",
    "linestyles = ['-', '--', ':']\n",
    "\n",
    "def E(X, g=lambda x: x):\n",
    "    x_set, f = X\n",
    "    return np.sum([g(x_k) * f(x_k) for x_k in x_set])\n",
    "\n",
    "def V(X, g=lambda x: x):\n",
    "    x_set, f = X\n",
    "    mean = E(X, g)\n",
    "    return np.sum([(g(x_k)-mean)**2 * f(x_k) for x_k in x_set])\n",
    "\n",
    "def check_prob(X):\n",
    "    x_set, f = X\n",
    "    prob = np.array([f(x_k) for x_k in x_set])\n",
    "    assert np.all(prob >= 0), '負の確率があります'\n",
    "    prob_sum = np.round(np.sum(prob), 6)\n",
    "    assert prob_sum == 1, f'確率の和が{prob_sum}になりました'\n",
    "    print(f'期待値は{E(X):.4}')\n",
    "    print(f'分散は{(V(X)):.4}')\n",
    "\n",
    "def plot_prob(X):\n",
    "    x_set, f = X\n",
    "    prob = np.array([f(x_k) for x_k in x_set])\n",
    "\n",
    "    fig = plt.figure(figsize=(10, 6))\n",
    "\n",
    "    ax = fig.add_subplot(111)\n",
    "    ax.bar(x_set, prob, label='prob')\n",
    "    ax.vlines(E(X), 0, 1, label='mean')\n",
    "    ax.set_xticks(np.append(x_set, E(X)))\n",
    "    ax.set_ylim(0, prob.max()*1.2)\n",
    "    ax.legend()\n",
    "\n",
    "    plt.show()"
   ]
  },
  {
   "cell_type": "code",
   "execution_count": 3,
   "metadata": {},
   "outputs": [],
   "source": [
    "#ベルヌーイ分布\n",
    "#ベルヌーイ分布は、最も基本的な離散型確率分布で、取り得る値が0と1しかない確率分布である。ベルヌーイ分布に従う確率変数の試行のことをベルヌーイ試行といい、1が出ることを成功、0が出ることを失敗という。\n",
    "#取り得る値が2つしかなく、確率の和が1という性質から、どちらかの確率が定まればもう一方の確率が自動的に定まる。そのためベルヌーイ分布では1が出る確率をp,0が出る確率を1-pとする。このpがベルヌーイ分布の形を調整できる唯一のパラメタで、確率の性質を満たすために0<p<1を満たす必要がある\n",
    "\n",
    "#ベルヌーイ分布の期待値と分散\n",
    "#ベルヌーイ分布をNumPyで実装してみる。パラメタを定めることにより確率分布が確定するので、パラメタpを引数にx_setとｆを返す関数で実装する。\n",
    "    \n",
    "def Bren(p):\n",
    "    x_set = np.array([0,1])\n",
    "    def f(x):\n",
    "        if x in x_set:\n",
    "            return p ** x * (1-p) ** (1-x)\n",
    "        else:\n",
    "            return 0\n",
    "    return x_set, f"
   ]
  },
  {
   "cell_type": "code",
   "execution_count": 4,
   "metadata": {},
   "outputs": [],
   "source": [
    "#Bern(0.3)に従う確率変数Xをつくってみる。\n",
    "p = 0.3\n",
    "X = Bren(p)"
   ]
  },
  {
   "cell_type": "code",
   "execution_count": 5,
   "metadata": {},
   "outputs": [
    {
     "name": "stdout",
     "output_type": "stream",
     "text": [
      "期待値は0.3\n",
      "分散は0.21\n"
     ]
    }
   ],
   "source": [
    "#期待値と分散を計算\n",
    "check_prob(X)"
   ]
  },
  {
   "cell_type": "code",
   "execution_count": 6,
   "metadata": {},
   "outputs": [
    {
     "data": {
      "image/png": "[encoded data removed]",
      "text/plain": [
       "<Figure size 720x432 with 1 Axes>"
      ]
     },
     "metadata": {
      "needs_background": "light"
     },
     "output_type": "display_data"
    }
   ],
   "source": [
    "#確率変数Xを図示する。中央の縦線が確率変数Xの期待値を示している\n",
    "plot_prob(X)"
   ]
  },
  {
   "cell_type": "code",
   "execution_count": 7,
   "metadata": {},
   "outputs": [],
   "source": [
    "#scipy.statsを使った実装\n",
    "#scipy.statsにはベルヌーイ分布にしたがy確率関数を造ることができるbernoulli関数がある。ベルヌーイ関数は引数にパラメタpをとり、返り値としてbern(p)に従うrv_frozen objectを返す。\n",
    "#rv_frozen objectはscipy.statusにおける確率変数に相当するもので、様々なメソッドを持っている。\n",
    "rv = stats.bernoulli(p)"
   ]
  },
  {
   "cell_type": "code",
   "execution_count": 8,
   "metadata": {},
   "outputs": [
    {
     "data": {
      "text/plain": [
       "(0.7000000000000001, 0.3)"
      ]
     },
     "execution_count": 8,
     "metadata": {},
     "output_type": "execute_result"
    }
   ],
   "source": [
    "#rvのpmfメソッドは確率関数を計算できる。0と1をそれぞれ渡すと、その値を取る確率が返ってくる。\n",
    "rv.pmf(0), rv.pmf(1)"
   ]
  },
  {
   "cell_type": "code",
   "execution_count": 9,
   "metadata": {},
   "outputs": [
    {
     "data": {
      "text/plain": [
       "array([0.7, 0.3])"
      ]
     },
     "execution_count": 9,
     "metadata": {},
     "output_type": "execute_result"
    }
   ],
   "source": [
    "#pmfメソッドは引数リストを渡すこともできる。この場合、リストの各要素に対する確率を格納したNumpyのarrayが返ってくる。\n",
    "rv.pmf([0,1])"
   ]
  },
  {
   "cell_type": "code",
   "execution_count": 10,
   "metadata": {},
   "outputs": [
    {
     "data": {
      "text/plain": [
       "array([0.7, 1. ])"
      ]
     },
     "execution_count": 10,
     "metadata": {},
     "output_type": "execute_result"
    }
   ],
   "source": [
    "#cdfメソッドを使うことで累積密度関数を計算できる。こちらも引数にリストを渡すことができる。\n",
    "rv.cdf([0,1])"
   ]
  },
  {
   "cell_type": "code",
   "execution_count": 11,
   "metadata": {},
   "outputs": [
    {
     "data": {
      "text/plain": [
       "(0.3, 0.21)"
      ]
     },
     "execution_count": 11,
     "metadata": {},
     "output_type": "execute_result"
    }
   ],
   "source": [
    "#meanメソッドやvarメソッドを呼び出すことで期待値や分散を計算できる\n",
    "rv.mean(), rv.var()"
   ]
  },
  {
   "cell_type": "code",
   "execution_count": 12,
   "metadata": {},
   "outputs": [],
   "source": [
    "\"\"\"二項分布\"\"\"\n",
    "#二項分布は成功確率がpのベルヌーイ試行をn回行ったときの成功回数が従う分布である。成功する回数は0回からn回まであるので、取り得る値は{0,1,…,n}である。\n",
    "#二項分布のパラメタには成功確率のpと試行回数のnの2つがあり、pは0<p<1で、んは1以上の整数である必要がある。パラメタがn,pの二項分布をBin(n,p)と表記する。\n",
    "#Bin(n,p) => 二項分布の確率関数 => https://ja.wikipedia.org/wiki/%E4%BA%8C%E9%A0%85%E5%88%86%E5%B8%83\n",
    "\n",
    "#二項分布の具体例\n",
    "#10回コインを投げて表が出る回数\n",
    "#これはp=1/2のベルヌーイ試行を10回行ったときの成功回数と考える事ができるのでBin(10, 1/2)に従う。このことからコインを10回投げて表が3回出る確率は、P(x=3) = 15/128 となる。\n",
    "#4回サイコロを投げて6が出る回数\n",
    "#これはp=1/6のベルヌーイ試行を4回行ったときの成功回数と考える事ができるので、Bin(4, 1/6)に従う。このことから4回サイコロを投げて6が1回も出ない確率であれば、　p(x=0) = 625/1296 となる。\n",
    "\n",
    "#二項分布の期待値と分散\n",
    "#X ~ Bin(n, p)とするとき、 期待値：E(X)= np,　分散V(X) = np(1-p)\n",
    "\n",
    "#二項分布をNumpyで実装してみる。コンビネーションnCxの計算には、scipy.specialにあるcomb関数を用いる。\n",
    "from scipy.special import comb\n",
    "\n",
    "def Bin(n, p):\n",
    "    x_set = np.arange(n+1)\n",
    "    def f(x):\n",
    "        if x in x_set:\n",
    "            return comb(n, x) * p**x * (1-p)**(n-x)\n",
    "        else:\n",
    "            return 0\n",
    "    return x_set, f"
   ]
  },
  {
   "cell_type": "code",
   "execution_count": 13,
   "metadata": {},
   "outputs": [],
   "source": [
    "#Bin(10, 0.3)に従う確率変数Xを作ってみる。\n",
    "n = 10\n",
    "p = 0.3\n",
    "X = Bin(n, p)"
   ]
  },
  {
   "cell_type": "code",
   "execution_count": 14,
   "metadata": {},
   "outputs": [
    {
     "name": "stdout",
     "output_type": "stream",
     "text": [
      "期待値は3.0\n",
      "分散は2.1\n"
     ]
    }
   ],
   "source": [
    "#期待値は10*0.3 = 3 分散は10*0.3*0.7 = 2.1となる\n",
    "check_prob(X)"
   ]
  },
  {
   "cell_type": "code",
   "execution_count": 15,
   "metadata": {},
   "outputs": [
    {
     "data": {
      "image/png": "[encoded data removed]",
      "text/plain": [
       "<Figure size 720x432 with 1 Axes>"
      ]
     },
     "metadata": {
      "needs_background": "light"
     },
     "output_type": "display_data"
    }
   ],
   "source": [
    "#図示する。二項分布は期待値でピークをとる山形の分布となる。\n",
    "plot_prob(X)"
   ]
  },
  {
   "cell_type": "code",
   "execution_count": 18,
   "metadata": {},
   "outputs": [
    {
     "data": {
      "image/png": "[encoded data removed]",
      "text/plain": [
       "<Figure size 720x432 with 1 Axes>"
      ]
     },
     "metadata": {
      "needs_background": "light"
     },
     "output_type": "display_data"
    }
   ],
   "source": [
    "#scipy.statsでは二項分布の確率変数はbinom関数によって作ることができる。nを10に固定して、pを0.3,0.5,0,7させて二項分布がどのような形になるか見てみる。\n",
    "fig = plt.figure(figsize=(10, 6))\n",
    "ax = fig.add_subplot(111)\n",
    "\n",
    "x_set = np.arange(n+1)\n",
    "for p, ls in zip([0.3, 0.5, 0.7], linestyles):\n",
    "    rv = stats.binom(n, p)\n",
    "    ax.plot(x_set, rv.pmf(x_set), label=f'p:{p}', ls=ls, color='gray')\n",
    "ax.set_xticks(x_set)\n",
    "ax.legend()\n",
    "plt.show()"
   ]
  },
  {
   "cell_type": "code",
   "execution_count": null,
   "metadata": {},
   "outputs": [],
   "source": []
  }
 ],
 "metadata": {
  "kernelspec": {
   "display_name": "Python 3",
   "language": "python",
   "name": "python3"
  },
  "language_info": {
   "codemirror_mode": {
    "name": "ipython",
    "version": 3
   },
   "file_extension": ".py",
   "mimetype": "text/x-python",
   "name": "python",
   "nbconvert_exporter": "python",
   "pygments_lexer": "ipython3",
   "version": "3.7.4"
  }
 },
 "nbformat": 4,
 "nbformat_minor": 5
}
