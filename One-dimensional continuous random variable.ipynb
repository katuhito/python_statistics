{
 "cells": [
  {
   "cell_type": "code",
   "execution_count": 1,
   "metadata": {},
   "outputs": [],
   "source": [
    "\"\"\"連続型確率変数\"\"\"\n",
    "#離散型確率変数と連続型確率変数の主な違いは、取り得る値が離散的か連続的かという点である。連続型確率変数の場合、計算過程に積分が含まれるなど離散型に比べると少し数式がややこしくなる。\n",
    "\n",
    "#NumpyとMatplotlibをインポート\n",
    "import numpy as np\n",
    "import matplotlib.pyplot as plt\n",
    "\n",
    "%precision 3\n",
    "%matplotlib inline\n",
    "\n",
    "#積分はSciPyのintegralモジュールを用いて実装していく。integralの計算に、結果に問題はないもののwarningが出る処理が含まれるため、あらかじめwarningを抑制しておく\n",
    "from scipy import integrate\n",
    "import warnings\n",
    "\n",
    "#積分に関するwarningを出力しないようにする。\n",
    "warnings.filterwarnings('ignore', category=integrate.IntegrationWarning)"
   ]
  },
  {
   "cell_type": "code",
   "execution_count": null,
   "metadata": {},
   "outputs": [],
   "source": []
  }
 ],
 "metadata": {
  "kernelspec": {
   "display_name": "Python 3",
   "language": "python",
   "name": "python3"
  },
  "language_info": {
   "codemirror_mode": {
    "name": "ipython",
    "version": 3
   },
   "file_extension": ".py",
   "mimetype": "text/x-python",
   "name": "python",
   "nbconvert_exporter": "python",
   "pygments_lexer": "ipython3",
   "version": "3.7.4"
  }
 },
 "nbformat": 4,
 "nbformat_minor": 2
}
