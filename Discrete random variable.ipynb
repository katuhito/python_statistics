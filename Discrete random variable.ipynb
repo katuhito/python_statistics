{
 "cells": [
  {
   "cell_type": "code",
   "execution_count": 1,
   "id": "71ab3217",
   "metadata": {},
   "outputs": [],
   "source": [
    "#必要なライブラリをインストール\n",
    "import numpy as np\n",
    "import matplotlib.pyplot as plt\n",
    "\n",
    "%precision 3\n",
    "%matplotlib inline"
   ]
  },
  {
   "cell_type": "code",
   "execution_count": 2,
   "id": "4fe34d50",
   "metadata": {},
   "outputs": [],
   "source": [
    "#1次元の離散型確率変数の定義\n",
    "#確率質量関数(PMF)\n",
    "#イカサマサイコロを例に確認\n",
    "x_set = np.array([1,2,3,4,5,6])"
   ]
  },
  {
   "cell_type": "code",
   "execution_count": 3,
   "id": "77212681",
   "metadata": {},
   "outputs": [],
   "source": [
    "#イカサマサイコロの取り得る値を入れた時に、その確率を返す確率関数を実装\n",
    "def f(x):\n",
    "    if x in x_set:\n",
    "        return x / 21\n",
    "    else:\n",
    "        return 0"
   ]
  },
  {
   "cell_type": "code",
   "execution_count": 4,
   "id": "5a00e6cc",
   "metadata": {},
   "outputs": [],
   "source": [
    "#取りうる値の集合と確率関数のセットが確率関数で、これによって確率変数X振る舞いが決まる\n",
    "#そのためXはx_setとfを要素に持つリストとして実装する\n",
    "X = [x_set, f]"
   ]
  },
  {
   "cell_type": "code",
   "execution_count": 5,
   "id": "9d69c892",
   "metadata": {},
   "outputs": [
    {
     "data": {
      "text/plain": [
       "{1: 0.047619047619047616,\n",
       " 2: 0.09523809523809523,\n",
       " 3: 0.14285714285714285,\n",
       " 4: 0.19047619047619047,\n",
       " 5: 0.23809523809523808,\n",
       " 6: 0.2857142857142857}"
      ]
     },
     "execution_count": 5,
     "metadata": {},
     "output_type": "execute_result"
    }
   ],
   "source": [
    "#これで確率変数Xが定義できた。\n",
    "#確率関数から各xkの確率pkを求めてみる。\n",
    "#ここではxkと確率pkの対応を辞書型にして表示してみる。\n",
    "\n",
    "#確率p_kを求める\n",
    "prob = np.array([f(x_k) for x_k in x_set])\n",
    "#x_kとｐ＿ｋの対応を辞書型にして表示\n",
    "dict(zip(x_set, prob))"
   ]
  },
  {
   "cell_type": "code",
   "execution_count": 6,
   "id": "752c829f",
   "metadata": {},
   "outputs": [
    {
     "name": "stderr",
     "output_type": "stream",
     "text": [
      "/home/vagrant/.pyenv/versions/anaconda3-2021.05/lib/python3.8/site-packages/matplotlib/backends/backend_agg.py:238: RuntimeWarning: Glyph 21462 missing from current font.\n",
      "  font.set_text(s, 0.0, flags=flags)\n",
      "/home/vagrant/.pyenv/versions/anaconda3-2021.05/lib/python3.8/site-packages/matplotlib/backends/backend_agg.py:238: RuntimeWarning: Glyph 12426 missing from current font.\n",
      "  font.set_text(s, 0.0, flags=flags)\n",
      "/home/vagrant/.pyenv/versions/anaconda3-2021.05/lib/python3.8/site-packages/matplotlib/backends/backend_agg.py:238: RuntimeWarning: Glyph 24471 missing from current font.\n",
      "  font.set_text(s, 0.0, flags=flags)\n",
      "/home/vagrant/.pyenv/versions/anaconda3-2021.05/lib/python3.8/site-packages/matplotlib/backends/backend_agg.py:238: RuntimeWarning: Glyph 12427 missing from current font.\n",
      "  font.set_text(s, 0.0, flags=flags)\n",
      "/home/vagrant/.pyenv/versions/anaconda3-2021.05/lib/python3.8/site-packages/matplotlib/backends/backend_agg.py:238: RuntimeWarning: Glyph 20516 missing from current font.\n",
      "  font.set_text(s, 0.0, flags=flags)\n",
      "/home/vagrant/.pyenv/versions/anaconda3-2021.05/lib/python3.8/site-packages/matplotlib/backends/backend_agg.py:238: RuntimeWarning: Glyph 30906 missing from current font.\n",
      "  font.set_text(s, 0.0, flags=flags)\n",
      "/home/vagrant/.pyenv/versions/anaconda3-2021.05/lib/python3.8/site-packages/matplotlib/backends/backend_agg.py:238: RuntimeWarning: Glyph 29575 missing from current font.\n",
      "  font.set_text(s, 0.0, flags=flags)\n",
      "/home/vagrant/.pyenv/versions/anaconda3-2021.05/lib/python3.8/site-packages/matplotlib/backends/backend_agg.py:201: RuntimeWarning: Glyph 21462 missing from current font.\n",
      "  font.set_text(s, 0, flags=flags)\n",
      "/home/vagrant/.pyenv/versions/anaconda3-2021.05/lib/python3.8/site-packages/matplotlib/backends/backend_agg.py:201: RuntimeWarning: Glyph 12426 missing from current font.\n",
      "  font.set_text(s, 0, flags=flags)\n",
      "/home/vagrant/.pyenv/versions/anaconda3-2021.05/lib/python3.8/site-packages/matplotlib/backends/backend_agg.py:201: RuntimeWarning: Glyph 24471 missing from current font.\n",
      "  font.set_text(s, 0, flags=flags)\n",
      "/home/vagrant/.pyenv/versions/anaconda3-2021.05/lib/python3.8/site-packages/matplotlib/backends/backend_agg.py:201: RuntimeWarning: Glyph 12427 missing from current font.\n",
      "  font.set_text(s, 0, flags=flags)\n",
      "/home/vagrant/.pyenv/versions/anaconda3-2021.05/lib/python3.8/site-packages/matplotlib/backends/backend_agg.py:201: RuntimeWarning: Glyph 20516 missing from current font.\n",
      "  font.set_text(s, 0, flags=flags)\n",
      "/home/vagrant/.pyenv/versions/anaconda3-2021.05/lib/python3.8/site-packages/matplotlib/backends/backend_agg.py:201: RuntimeWarning: Glyph 30906 missing from current font.\n",
      "  font.set_text(s, 0, flags=flags)\n",
      "/home/vagrant/.pyenv/versions/anaconda3-2021.05/lib/python3.8/site-packages/matplotlib/backends/backend_agg.py:201: RuntimeWarning: Glyph 29575 missing from current font.\n",
      "  font.set_text(s, 0, flags=flags)\n"
     ]
    },
    {
     "data": {
      "image/png": "[encoded data removed]",
      "text/plain": [
       "<Figure size 720x432 with 1 Axes>"
      ]
     },
     "metadata": {
      "needs_background": "light"
     },
     "output_type": "display_data"
    }
   ],
   "source": [
    "#取り得る値と確率の対応を棒グラフにしてみる。\n",
    "fig = plt.figure(figsize=(10, 6))\n",
    "ax = fig.add_subplot(111)\n",
    "ax.bar(x_set, prob)\n",
    "ax.set_xlabel('取り得る値')\n",
    "ax.set_ylabel('確率')\n",
    "\n",
    "plt.show()"
   ]
  },
  {
   "cell_type": "code",
   "execution_count": 7,
   "id": "721b4c40",
   "metadata": {},
   "outputs": [
    {
     "data": {
      "text/plain": [
       "True"
      ]
     },
     "execution_count": 7,
     "metadata": {},
     "output_type": "execute_result"
    }
   ],
   "source": [
    "#確率の性質\n",
    "#確率は絶対に0以上で、すべての確率の和は1にならなければならない\n",
    "#確率がすべて0以上であるかはnp.all関数(bool判定)を使うことで確認できる\n",
    "np.all(prob >= 0)"
   ]
  },
  {
   "cell_type": "code",
   "execution_count": 8,
   "id": "63e30827",
   "metadata": {},
   "outputs": [
    {
     "data": {
      "text/plain": [
       "0.9999999999999999"
      ]
     },
     "execution_count": 8,
     "metadata": {},
     "output_type": "execute_result"
    }
   ],
   "source": [
    "#確率の総和が1になっていることも確認\n",
    "np.sum(prob)"
   ]
  },
  {
   "cell_type": "code",
   "execution_count": 9,
   "id": "2ef390fc",
   "metadata": {},
   "outputs": [
    {
     "data": {
      "text/plain": [
       "0.2857142857142857"
      ]
     },
     "execution_count": 9,
     "metadata": {},
     "output_type": "execute_result"
    }
   ],
   "source": [
    "#累積分布関数\n",
    "#確率関数は確率変数Xがxになるときの確率を返す関数\n",
    "#確率変数Xがx以下になるときの確率を返す関数F(x)を累積分布関数(CDF:分布関数)という\n",
    "def F(x):\n",
    "    return np.sum([f(x_k) for x_k in x_set if x_k <= x])\n",
    "#分布関数を使うことで、例えば出目が3以下になる確率\n",
    "F(3)"
   ]
  },
  {
   "cell_type": "code",
   "execution_count": 10,
   "id": "95960908",
   "metadata": {},
   "outputs": [
    {
     "data": {
      "text/plain": [
       "{5: 0.047619047619047616,\n",
       " 7: 0.09523809523809523,\n",
       " 9: 0.14285714285714285,\n",
       " 11: 0.19047619047619047,\n",
       " 13: 0.23809523809523808,\n",
       " 15: 0.2857142857142857}"
      ]
     },
     "execution_count": 10,
     "metadata": {},
     "output_type": "execute_result"
    }
   ],
   "source": [
    "#確率関数の変換\n",
    "#確率関数の変換とは、例えば確率変数Xに2を掛けて3を足した2X+3といったものである。\n",
    "#確率変数を標準化する(平均を引いて標準偏差で割る)ときなどに重要となる操作である。\n",
    "#変換を行った確率変数もまた確率変数である。\n",
    "\n",
    "#2X+3を確率変数Yとして、確率分布を求める。\n",
    "y_set = np.array([2 * x_k + 3 for x_k in x_set])\n",
    "prob = np.array([f(x_k) for x_k in x_set])\n",
    "dict(zip(y_set, prob))"
   ]
  },
  {
   "cell_type": "code",
   "execution_count": 11,
   "id": "4e782a7c",
   "metadata": {},
   "outputs": [
    {
     "data": {
      "text/plain": [
       "4.333333333333333"
      ]
     },
     "execution_count": 11,
     "metadata": {},
     "output_type": "execute_result"
    }
   ],
   "source": [
    "#1次元の離散型確率変数の指標\n",
    "#期待値\n",
    "#確率変数の平均：確率変数の平均とは確率変数を何回も(無限回)試行して得られた実現値の平均のことである。\n",
    "#無限回の試行を現実に行うことができないので、離散型確率変数の場合には、確率変数の平均は、確率変数の取り得る値とその確率の積の総和として定義される。\n",
    "#期待値：確率変数の平均をいう\n",
    "\n",
    "#イカサマサイコロの期待値を定義通り計算\n",
    "np.sum([x_k * f(x_k) for x_k in x_set])"
   ]
  },
  {
   "cell_type": "code",
   "execution_count": 12,
   "id": "62813f5e",
   "metadata": {},
   "outputs": [
    {
     "data": {
      "text/plain": [
       "4.332193"
      ]
     },
     "execution_count": 12,
     "metadata": {},
     "output_type": "execute_result"
    }
   ],
   "source": [
    "#確率変数の期待値は無限回試行したときの実現値の平均である。ここでは無限回の試行を100万(=10^6)回サイコロを振ってみる\n",
    "sample = np.random.choice(x_set, int(1e6), p=prob)\n",
    "np.mean(sample)"
   ]
  },
  {
   "cell_type": "code",
   "execution_count": 13,
   "id": "1abe5207",
   "metadata": {},
   "outputs": [],
   "source": [
    "#変換した確率変数の期待値を考える\n",
    "#この場合、期待値はxkの部分を2ｘｋ＋3に置き換えた式で定義される。=> P87:右下\n",
    "#これを期待値の関数として実装しておく。\n",
    "\n",
    "#引数gが確率変数に対する変換の関数になっている。\n",
    "def E(X, g=lambda x: x):\n",
    "    x_set, f = X\n",
    "    return np.sum([g(x_k) * f(x_k) for x_k in x_set])"
   ]
  },
  {
   "cell_type": "code",
   "execution_count": 14,
   "id": "f2545388",
   "metadata": {},
   "outputs": [
    {
     "data": {
      "text/plain": [
       "4.333333333333333"
      ]
     },
     "execution_count": 14,
     "metadata": {},
     "output_type": "execute_result"
    }
   ],
   "source": [
    "#gに何も指定しなければ確率変数Xの期待値を求めることになる\n",
    "E(X)"
   ]
  },
  {
   "cell_type": "code",
   "execution_count": 15,
   "id": "f34b39ba",
   "metadata": {},
   "outputs": [
    {
     "data": {
      "text/plain": [
       "11.666666666666664"
      ]
     },
     "execution_count": 15,
     "metadata": {},
     "output_type": "execute_result"
    }
   ],
   "source": [
    "#確率変数Y=2X+3の期待値は次のように計算できる\n",
    "E(X, g=lambda x: 2*x + 3)"
   ]
  },
  {
   "cell_type": "code",
   "execution_count": 16,
   "id": "dd0436ed",
   "metadata": {},
   "outputs": [
    {
     "data": {
      "text/plain": [
       "11.666666666666666"
      ]
     },
     "execution_count": 16,
     "metadata": {},
     "output_type": "execute_result"
    }
   ],
   "source": [
    "#期待値の線形性の性質を用いて、確率変数Xを変換した確率変数aX+bの期待値を、Xの期待値で求めることができる。\n",
    "#期待値の線形性：E(aX+b)=aE(X)+b  (a,bは実数　X：確率変数)\n",
    "\n",
    "#E(2X+3)が2E(X)+3と等しいかを確認\n",
    "2 * E(X) + 3"
   ]
  },
  {
   "cell_type": "code",
   "execution_count": 17,
   "id": "66ae7a85",
   "metadata": {},
   "outputs": [
    {
     "data": {
      "text/plain": [
       "2.2222222222222223"
      ]
     },
     "execution_count": 17,
     "metadata": {},
     "output_type": "execute_result"
    }
   ],
   "source": [
    "#確率変数の分散\n",
    "#離散型確率変数の場合、分散は偏差の二乗の期待値として定義される\n",
    "\n",
    "#イカサマサイコロの分散\n",
    "mean = E(X)\n",
    "np.sum([(x_k - mean)**2 * f(x_k) for x_k in x_set])"
   ]
  },
  {
   "cell_type": "code",
   "execution_count": 18,
   "id": "521513a2",
   "metadata": {},
   "outputs": [],
   "source": [
    "#変換した確率変数について分散を定義\n",
    "#確率変数：Y=2X+3 引数gを確率変数に対する変換の関数とする。\n",
    "def V(X, g=lambda x: x):\n",
    "    x_set, f = X\n",
    "    mean = E(X, g)\n",
    "    return np.sum([(g(x_k) - mean)**2 * f(x_k) for x_k in x_set])"
   ]
  },
  {
   "cell_type": "code",
   "execution_count": 19,
   "id": "c676d413",
   "metadata": {},
   "outputs": [
    {
     "data": {
      "text/plain": [
       "2.2222222222222223"
      ]
     },
     "execution_count": 19,
     "metadata": {},
     "output_type": "execute_result"
    }
   ],
   "source": [
    "#gを指定しなければ、確率変数Xの分散を計算する\n",
    "V(X)"
   ]
  },
  {
   "cell_type": "code",
   "execution_count": 20,
   "id": "66d90f5d",
   "metadata": {},
   "outputs": [
    {
     "data": {
      "text/plain": [
       "8.88888888888889"
      ]
     },
     "execution_count": 20,
     "metadata": {},
     "output_type": "execute_result"
    }
   ],
   "source": [
    "#確率変数Y=2X+3の分散は次のように計算される\n",
    "V(X, lambda x: 2*x + 3)"
   ]
  },
  {
   "cell_type": "code",
   "execution_count": 21,
   "id": "4cd6f2b6",
   "metadata": {},
   "outputs": [
    {
     "data": {
      "text/plain": [
       "8.88888888888889"
      ]
     },
     "execution_count": 21,
     "metadata": {},
     "output_type": "execute_result"
    }
   ],
   "source": [
    "#期待値と同様に、分散でもV(2X+3)をV(X)を使って計算できる\n",
    "#公式：V(aX+b) = a^2V(X)\n",
    "#この公式により、V(2X+3) = 2^2V(X)\n",
    "2**2 * V(X)"
   ]
  },
  {
   "cell_type": "code",
   "execution_count": 22,
   "id": "ba2de303",
   "metadata": {},
   "outputs": [],
   "source": [
    "#2次元の離散型確率変数\n",
    "#同時確率分布\n",
    "#2次元の確率変数では、1次元の確率変数を2つ同時に扱い(X, Y)と表記する。\n",
    "# その振る舞いは、取り得る値の組み合わせの集合とその確率によって定まる。\n",
    "#同時確率分布\n",
    "#確率変数(X, Y)の振る舞いを同時に考えた分布のことを同時確率分布(同時分布)という。\n",
    "\n",
    "#イカサマサイコロAの出目をY、サイコロAの出目とサイコロBの出目の和をXとした2次元の確率分布を考えてみる。\n",
    "#このときXとYそれぞれの取り得る集合の値\n",
    "# Y {1,2,3,4,5,6}  X {2,3,4,5,6,7,8,9,10,11,12} \n",
    "\n",
    "#2次元確率分布の確率はxとｙを引数に取る関数とみることができる。\n",
    "#そのようなP(X=x, Y=y) = fxy(x,y)となる関数fxy(x,y)を同時確率関数という。\n",
    "\n",
    "#XとYの取り得る値の集合をそれぞれx_setとy_setとして定義する。\n",
    "x_set = np.arange(2, 13)\n",
    "y_set = np.arange(1, 7)"
   ]
  },
  {
   "cell_type": "code",
   "execution_count": 23,
   "id": "505e0e15",
   "metadata": {},
   "outputs": [],
   "source": [
    "#次に動じ確率変数を定義する。\n",
    "def f_XY(x, y):\n",
    "    if 1 <= y <= 6 and 1 <= x - y <= 6:\n",
    "        return y * (x - y) / 441\n",
    "    else:\n",
    "        return 0"
   ]
  },
  {
   "cell_type": "code",
   "execution_count": 24,
   "id": "2e9a0f26",
   "metadata": {},
   "outputs": [],
   "source": [
    "#確率変数(X,Y)の振る舞いはx_setとy_setとf_xyによって定義されるので、これらをリストにしてXYとする。\n",
    "XY = [x_set, y_set, f_XY]"
   ]
  },
  {
   "cell_type": "code",
   "execution_count": 26,
   "id": "e4b97c1a",
   "metadata": {},
   "outputs": [
    {
     "data": {
      "image/png": "[encoded data removed]",
      "text/plain": [
       "<Figure size 720x576 with 2 Axes>"
      ]
     },
     "metadata": {
      "needs_background": "light"
     },
     "output_type": "display_data"
    }
   ],
   "source": [
    "#確率分布をヒートマップを使って図示する\n",
    "prob = np.array([[f_XY(x_i, y_j) for y_j in y_set] for x_i in x_set])\n",
    "fig = plt.figure(figsize=(10, 8))\n",
    "ax = fig.add_subplot(111)\n",
    "c = ax.pcolor(prob)\n",
    "ax.set_xticks(np.arange(prob.shape[1]) + 0.5, minor=False)\n",
    "ax.set_yticks(np.arange(prob.shape[0]) + 0.5, minor=False)\n",
    "ax.set_xticklabels(np.arange(1, 7), minor=False)\n",
    "ax.set_yticklabels(np.arange(2, 13), minor=False)\n",
    "#ｙ軸を下が大きい数字になるように、上下逆転させる\n",
    "ax.invert_yaxis()\n",
    "#x軸の目盛りをグラフ上側に表示\n",
    "ax.xaxis.tick_top()\n",
    "fig.colorbar(c, ax=ax)\n",
    "plt.show()"
   ]
  },
  {
   "cell_type": "code",
   "execution_count": 27,
   "id": "aa3f1bf5",
   "metadata": {},
   "outputs": [
    {
     "data": {
      "text/plain": [
       "True"
      ]
     },
     "execution_count": 27,
     "metadata": {},
     "output_type": "execute_result"
    }
   ],
   "source": [
    "#確率が必ず0以上になっているかどうかの確認\n",
    "np.all(prob >= 0)"
   ]
  },
  {
   "cell_type": "code",
   "execution_count": 28,
   "id": "f3028a85",
   "metadata": {},
   "outputs": [
    {
     "data": {
      "text/plain": [
       "1.0"
      ]
     },
     "execution_count": 28,
     "metadata": {},
     "output_type": "execute_result"
    }
   ],
   "source": [
    "#確率の総和が1かどうかを確認\n",
    "np.sum(prob)"
   ]
  },
  {
   "cell_type": "code",
   "execution_count": 32,
   "id": "ad40b4da",
   "metadata": {},
   "outputs": [],
   "source": [
    "#周辺確率分布(周辺分布)\n",
    "#確率変数(X,Y)が同時確率関数によって定義されているとき、確率変数Xのみの振る舞い\n",
    "#つまり、確率関数Xの確率関数を知りたい状況のとき\n",
    "#このときの確率変数Xの確率関数fX(x)は、同時確率関数ｆXYにYの取り得る値をすべて代入して足し合わせて得られる関数によって求めることができる\n",
    "#これは同時確率関数fXYから確率変数Yの影響を取り除くと、確率変数Xの振る舞いを記述する確率変数Xの確率関数のみが残ると考える。\n",
    "#このようにして求められたfX(x)のことをXの周辺確率分布(Xの周辺分布)という。\n",
    "\n",
    "#Xの周辺分布\n",
    "def f_X(x):\n",
    "    return np.sum([f_XY(x, y_k) for y_k in y_set])\n",
    "\n",
    "#Yの周辺分布\n",
    "def f_Y(y):\n",
    "    return np.sum([f_XY(x_k, y) for x_k in x_set])"
   ]
  },
  {
   "cell_type": "code",
   "execution_count": 33,
   "id": "cf9a491f",
   "metadata": {},
   "outputs": [],
   "source": [
    "#周辺分布が求まったところで、XとYをそれぞれ独立に考えることができる。\n",
    "X = [x_set, f_X]\n",
    "Y = [y_set, f_Y]"
   ]
  },
  {
   "cell_type": "code",
   "execution_count": 34,
   "id": "940d53e0",
   "metadata": {},
   "outputs": [
    {
     "name": "stderr",
     "output_type": "stream",
     "text": [
      "/home/vagrant/.pyenv/versions/anaconda3-2021.05/lib/python3.8/site-packages/matplotlib/backends/backend_agg.py:238: RuntimeWarning: Glyph 12398 missing from current font.\n",
      "  font.set_text(s, 0.0, flags=flags)\n",
      "/home/vagrant/.pyenv/versions/anaconda3-2021.05/lib/python3.8/site-packages/matplotlib/backends/backend_agg.py:238: RuntimeWarning: Glyph 21608 missing from current font.\n",
      "  font.set_text(s, 0.0, flags=flags)\n",
      "/home/vagrant/.pyenv/versions/anaconda3-2021.05/lib/python3.8/site-packages/matplotlib/backends/backend_agg.py:238: RuntimeWarning: Glyph 36794 missing from current font.\n",
      "  font.set_text(s, 0.0, flags=flags)\n",
      "/home/vagrant/.pyenv/versions/anaconda3-2021.05/lib/python3.8/site-packages/matplotlib/backends/backend_agg.py:238: RuntimeWarning: Glyph 20998 missing from current font.\n",
      "  font.set_text(s, 0.0, flags=flags)\n",
      "/home/vagrant/.pyenv/versions/anaconda3-2021.05/lib/python3.8/site-packages/matplotlib/backends/backend_agg.py:238: RuntimeWarning: Glyph 24067 missing from current font.\n",
      "  font.set_text(s, 0.0, flags=flags)\n",
      "/home/vagrant/.pyenv/versions/anaconda3-2021.05/lib/python3.8/site-packages/matplotlib/backends/backend_agg.py:201: RuntimeWarning: Glyph 12398 missing from current font.\n",
      "  font.set_text(s, 0, flags=flags)\n",
      "/home/vagrant/.pyenv/versions/anaconda3-2021.05/lib/python3.8/site-packages/matplotlib/backends/backend_agg.py:201: RuntimeWarning: Glyph 21608 missing from current font.\n",
      "  font.set_text(s, 0, flags=flags)\n",
      "/home/vagrant/.pyenv/versions/anaconda3-2021.05/lib/python3.8/site-packages/matplotlib/backends/backend_agg.py:201: RuntimeWarning: Glyph 36794 missing from current font.\n",
      "  font.set_text(s, 0, flags=flags)\n",
      "/home/vagrant/.pyenv/versions/anaconda3-2021.05/lib/python3.8/site-packages/matplotlib/backends/backend_agg.py:201: RuntimeWarning: Glyph 20998 missing from current font.\n",
      "  font.set_text(s, 0, flags=flags)\n",
      "/home/vagrant/.pyenv/versions/anaconda3-2021.05/lib/python3.8/site-packages/matplotlib/backends/backend_agg.py:201: RuntimeWarning: Glyph 24067 missing from current font.\n",
      "  font.set_text(s, 0, flags=flags)\n"
     ]
    },
    {
     "data": {
      "image/png": "[encoded data removed]",
      "text/plain": [
       "<Figure size 864x288 with 2 Axes>"
      ]
     },
     "metadata": {
      "needs_background": "light"
     },
     "output_type": "display_data"
    }
   ],
   "source": [
    "#X,Yそれぞれについて確率の分布がどのようになっているか図示してみる\n",
    "prob_x = np.array([f_X(x_k) for x_k in x_set])\n",
    "prob_y = np.array([f_Y(y_k) for y_k in y_set])\n",
    "\n",
    "fig = plt.figure(figsize=(12,4))\n",
    "ax1 = fig.add_subplot(121)\n",
    "ax2 = fig.add_subplot(122)\n",
    "\n",
    "ax1.bar(x_set, prob_x)\n",
    "ax1.set_title('Xの周辺分布')\n",
    "ax1.set_xlabel('Xの取り得る値')\n",
    "ax1.set_ylabel('確率')\n",
    "ax1.set_xticks(x_set)\n",
    "\n",
    "ax2.bar(y_set, prob_y)\n",
    "ax2.set_title('Yの周辺分布')\n",
    "ax2.set_xlabel('Yの取り得る値')\n",
    "ax2.set_ylabel('確率')\n",
    "\n",
    "plt.show()"
   ]
  },
  {
   "cell_type": "code",
   "execution_count": null,
   "id": "f8bdbb4b",
   "metadata": {},
   "outputs": [],
   "source": []
  }
 ],
 "metadata": {
  "kernelspec": {
   "display_name": "Python 3",
   "language": "python",
   "name": "python3"
  },
  "language_info": {
   "codemirror_mode": {
    "name": "ipython",
    "version": 3
   },
   "file_extension": ".py",
   "mimetype": "text/x-python",
   "name": "python",
   "nbconvert_exporter": "python",
   "pygments_lexer": "ipython3",
   "version": "3.8.8"
  }
 },
 "nbformat": 4,
 "nbformat_minor": 5
}
