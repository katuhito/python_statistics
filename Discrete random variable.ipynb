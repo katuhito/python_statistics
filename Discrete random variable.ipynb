{
 "cells": [
  {
   "cell_type": "code",
   "execution_count": 3,
   "id": "fdca256a",
   "metadata": {},
   "outputs": [],
   "source": [
    "#必要なライブラリをインストール\n",
    "import numpy as np\n",
    "import matplotlib.pyplot as plt\n",
    "\n",
    "%precision 3\n",
    "%matplotlib inline"
   ]
  },
  {
   "cell_type": "code",
   "execution_count": 4,
   "id": "0aa2916b",
   "metadata": {},
   "outputs": [],
   "source": [
    "#1次元の離散型確率変数の定義\n",
    "#確率質量関数(PMF)\n",
    "#イカサマサイコロを例に確認\n",
    "x_set = np.array([1,2,3,4,5,6])"
   ]
  },
  {
   "cell_type": "code",
   "execution_count": 5,
   "id": "ef4961cc",
   "metadata": {},
   "outputs": [],
   "source": [
    "#イカサマサイコロの取り得る値を入れた時に、その確率を返す確率関数を実装\n",
    "def f(x):\n",
    "    if x in x_set:\n",
    "        return x / 21\n",
    "    else:\n",
    "        return 0"
   ]
  },
  {
   "cell_type": "code",
   "execution_count": 6,
   "id": "418d5b1f",
   "metadata": {},
   "outputs": [],
   "source": [
    "#取りうる値の集合と確率関数のセットが確率関数で、これによって確率変数X振る舞いが決まる\n",
    "#そのためXはx_setとfを要素に持つリストとして実装する\n",
    "X = [x_set, f]"
   ]
  },
  {
   "cell_type": "code",
   "execution_count": 7,
   "id": "d86011fb",
   "metadata": {},
   "outputs": [
    {
     "data": {
      "text/plain": [
       "{1: 0.047619047619047616,\n",
       " 2: 0.09523809523809523,\n",
       " 3: 0.14285714285714285,\n",
       " 4: 0.19047619047619047,\n",
       " 5: 0.23809523809523808,\n",
       " 6: 0.2857142857142857}"
      ]
     },
     "execution_count": 7,
     "metadata": {},
     "output_type": "execute_result"
    }
   ],
   "source": [
    "#これで確率変数Xが定義できた。\n",
    "#確率関数から各xkの確率pkを求めてみる。\n",
    "#ここではxkと確率pkの対応を辞書型にして表示してみる。\n",
    "\n",
    "#確率p_kを求める\n",
    "prob = np.array([f(x_k) for x_k in x_set])\n",
    "#x_kとｐ＿ｋの対応を辞書型にして表示\n",
    "dict(zip(x_set, prob))"
   ]
  },
  {
   "cell_type": "code",
   "execution_count": 8,
   "id": "54b177d3",
   "metadata": {},
   "outputs": [
    {
     "name": "stderr",
     "output_type": "stream",
     "text": [
      "/home/vagrant/.pyenv/versions/anaconda3-2021.05/lib/python3.8/site-packages/matplotlib/backends/backend_agg.py:238: RuntimeWarning: Glyph 21462 missing from current font.\n",
      "  font.set_text(s, 0.0, flags=flags)\n",
      "/home/vagrant/.pyenv/versions/anaconda3-2021.05/lib/python3.8/site-packages/matplotlib/backends/backend_agg.py:238: RuntimeWarning: Glyph 12426 missing from current font.\n",
      "  font.set_text(s, 0.0, flags=flags)\n",
      "/home/vagrant/.pyenv/versions/anaconda3-2021.05/lib/python3.8/site-packages/matplotlib/backends/backend_agg.py:238: RuntimeWarning: Glyph 24471 missing from current font.\n",
      "  font.set_text(s, 0.0, flags=flags)\n",
      "/home/vagrant/.pyenv/versions/anaconda3-2021.05/lib/python3.8/site-packages/matplotlib/backends/backend_agg.py:238: RuntimeWarning: Glyph 12427 missing from current font.\n",
      "  font.set_text(s, 0.0, flags=flags)\n",
      "/home/vagrant/.pyenv/versions/anaconda3-2021.05/lib/python3.8/site-packages/matplotlib/backends/backend_agg.py:238: RuntimeWarning: Glyph 20516 missing from current font.\n",
      "  font.set_text(s, 0.0, flags=flags)\n",
      "/home/vagrant/.pyenv/versions/anaconda3-2021.05/lib/python3.8/site-packages/matplotlib/backends/backend_agg.py:238: RuntimeWarning: Glyph 30906 missing from current font.\n",
      "  font.set_text(s, 0.0, flags=flags)\n",
      "/home/vagrant/.pyenv/versions/anaconda3-2021.05/lib/python3.8/site-packages/matplotlib/backends/backend_agg.py:238: RuntimeWarning: Glyph 29575 missing from current font.\n",
      "  font.set_text(s, 0.0, flags=flags)\n",
      "/home/vagrant/.pyenv/versions/anaconda3-2021.05/lib/python3.8/site-packages/matplotlib/backends/backend_agg.py:201: RuntimeWarning: Glyph 21462 missing from current font.\n",
      "  font.set_text(s, 0, flags=flags)\n",
      "/home/vagrant/.pyenv/versions/anaconda3-2021.05/lib/python3.8/site-packages/matplotlib/backends/backend_agg.py:201: RuntimeWarning: Glyph 12426 missing from current font.\n",
      "  font.set_text(s, 0, flags=flags)\n",
      "/home/vagrant/.pyenv/versions/anaconda3-2021.05/lib/python3.8/site-packages/matplotlib/backends/backend_agg.py:201: RuntimeWarning: Glyph 24471 missing from current font.\n",
      "  font.set_text(s, 0, flags=flags)\n",
      "/home/vagrant/.pyenv/versions/anaconda3-2021.05/lib/python3.8/site-packages/matplotlib/backends/backend_agg.py:201: RuntimeWarning: Glyph 12427 missing from current font.\n",
      "  font.set_text(s, 0, flags=flags)\n",
      "/home/vagrant/.pyenv/versions/anaconda3-2021.05/lib/python3.8/site-packages/matplotlib/backends/backend_agg.py:201: RuntimeWarning: Glyph 20516 missing from current font.\n",
      "  font.set_text(s, 0, flags=flags)\n",
      "/home/vagrant/.pyenv/versions/anaconda3-2021.05/lib/python3.8/site-packages/matplotlib/backends/backend_agg.py:201: RuntimeWarning: Glyph 30906 missing from current font.\n",
      "  font.set_text(s, 0, flags=flags)\n",
      "/home/vagrant/.pyenv/versions/anaconda3-2021.05/lib/python3.8/site-packages/matplotlib/backends/backend_agg.py:201: RuntimeWarning: Glyph 29575 missing from current font.\n",
      "  font.set_text(s, 0, flags=flags)\n"
     ]
    },
    {
     "data": {
      "image/png": "[encoded data removed]",
      "text/plain": [
       "<Figure size 720x432 with 1 Axes>"
      ]
     },
     "metadata": {
      "needs_background": "light"
     },
     "output_type": "display_data"
    }
   ],
   "source": [
    "#取り得る値と確率の対応を棒グラフにしてみる。\n",
    "fig = plt.figure(figsize=(10, 6))\n",
    "ax = fig.add_subplot(111)\n",
    "ax.bar(x_set, prob)\n",
    "ax.set_xlabel('取り得る値')\n",
    "ax.set_ylabel('確率')\n",
    "\n",
    "plt.show()"
   ]
  },
  {
   "cell_type": "code",
   "execution_count": 9,
   "id": "3c54c0fb",
   "metadata": {},
   "outputs": [
    {
     "data": {
      "text/plain": [
       "True"
      ]
     },
     "execution_count": 9,
     "metadata": {},
     "output_type": "execute_result"
    }
   ],
   "source": [
    "#確率の性質\n",
    "#確率は絶対に0以上で、すべての確率の和は1にならなければならない\n",
    "#確率がすべて0以上であるかはnp.all関数(bool判定)を使うことで確認できる\n",
    "np.all(prob >= 0)"
   ]
  },
  {
   "cell_type": "code",
   "execution_count": 10,
   "id": "e1861b08",
   "metadata": {},
   "outputs": [
    {
     "data": {
      "text/plain": [
       "0.9999999999999999"
      ]
     },
     "execution_count": 10,
     "metadata": {},
     "output_type": "execute_result"
    }
   ],
   "source": [
    "#確率の総和が1になっていることも確認\n",
    "np.sum(prob)"
   ]
  },
  {
   "cell_type": "code",
   "execution_count": 11,
   "id": "adf4d52a",
   "metadata": {},
   "outputs": [
    {
     "data": {
      "text/plain": [
       "0.2857142857142857"
      ]
     },
     "execution_count": 11,
     "metadata": {},
     "output_type": "execute_result"
    }
   ],
   "source": [
    "#累積分布関数\n",
    "#確率関数は確率変数Xがxになるときの確率を返す関数\n",
    "#確率変数Xがx以下になるときの確率を返す関数F(x)を累積分布関数(CDF:分布関数)という\n",
    "def F(x):\n",
    "    return np.sum([f(x_k) for x_k in x_set if x_k <= x])\n",
    "#分布関数を使うことで、例えば出目が3以下になる確率\n",
    "F(3)"
   ]
  },
  {
   "cell_type": "code",
   "execution_count": 13,
   "id": "7dae92e3",
   "metadata": {},
   "outputs": [
    {
     "data": {
      "text/plain": [
       "{5: 0.047619047619047616,\n",
       " 7: 0.09523809523809523,\n",
       " 9: 0.14285714285714285,\n",
       " 11: 0.19047619047619047,\n",
       " 13: 0.23809523809523808,\n",
       " 15: 0.2857142857142857}"
      ]
     },
     "execution_count": 13,
     "metadata": {},
     "output_type": "execute_result"
    }
   ],
   "source": [
    "#確率関数の変換\n",
    "#確率関数の変換とは、例えば確率変数Xに2を掛けて3を足した2X+3といったものである。\n",
    "#確率変数を標準化する(平均を引いて標準偏差で割る)ときなどに重要となる操作である。\n",
    "#変換を行った確率変数もまた確率変数である。\n",
    "\n",
    "#2X+3を確率変数Yとして、確率分布を求める。\n",
    "y_set = np.array([2 * x_k + 3 for x_k in x_set])\n",
    "prob = np.array([f(x_k) for x_k in x_set])\n",
    "dict(zip(y_set, prob))"
   ]
  },
  {
   "cell_type": "code",
   "execution_count": 14,
   "id": "cc679c71",
   "metadata": {},
   "outputs": [
    {
     "data": {
      "text/plain": [
       "4.333333333333333"
      ]
     },
     "execution_count": 14,
     "metadata": {},
     "output_type": "execute_result"
    }
   ],
   "source": [
    "#1次元の離散型確率変数の指標\n",
    "#期待値\n",
    "#確率変数の平均：確率変数の平均とは確率変数を何回も(無限回)試行して得られた実現値の平均のことである。\n",
    "#無限回の試行を現実に行うことができないので、離散型確率変数の場合には、確率変数の平均は、確率変数の取り得る値とその確率の積の総和として定義される。\n",
    "#期待値：確率変数の平均をいう\n",
    "\n",
    "#イカサマサイコロの期待値を定義通り計算\n",
    "np.sum([x_k * f(x_k) for x_k in x_set])"
   ]
  },
  {
   "cell_type": "code",
   "execution_count": 15,
   "id": "6be3b175",
   "metadata": {},
   "outputs": [
    {
     "data": {
      "text/plain": [
       "4.333172"
      ]
     },
     "execution_count": 15,
     "metadata": {},
     "output_type": "execute_result"
    }
   ],
   "source": [
    "#確率変数の期待値は無限回試行したときの実現値の平均である。ここでは無限回の試行を100万(=10^6)回サイコロを振ってみる\n",
    "sample = np.random.choice(x_set, int(1e6), p=prob)\n",
    "np.mean(sample)"
   ]
  },
  {
   "cell_type": "code",
   "execution_count": 16,
   "id": "aa1c3a14",
   "metadata": {},
   "outputs": [],
   "source": [
    "#変換した確率変数の期待値を考える\n",
    "#この場合、期待値はxkの部分を2ｘｋ＋3に置き換えた式で定義される。=> P87:右下\n",
    "#これを期待値の関数として実装しておく。\n",
    "\n",
    "#引数gが確率変数に対する変換の関数になっている。\n",
    "def E(X, g=lambda x: x):\n",
    "    x_set, f = X\n",
    "    return np.sum([g(x_k) * f(x_k) for x_k in x_set])"
   ]
  },
  {
   "cell_type": "code",
   "execution_count": 17,
   "id": "58762cec",
   "metadata": {},
   "outputs": [
    {
     "data": {
      "text/plain": [
       "4.333333333333333"
      ]
     },
     "execution_count": 17,
     "metadata": {},
     "output_type": "execute_result"
    }
   ],
   "source": [
    "#gに何も指定しなければ確率変数Xの期待値を求めることになる\n",
    "E(X)"
   ]
  },
  {
   "cell_type": "code",
   "execution_count": 18,
   "id": "76955834",
   "metadata": {},
   "outputs": [
    {
     "data": {
      "text/plain": [
       "11.666666666666664"
      ]
     },
     "execution_count": 18,
     "metadata": {},
     "output_type": "execute_result"
    }
   ],
   "source": [
    "#確率変数Y=2X+3の期待値は次のように計算できる\n",
    "E(X, g=lambda x: 2*x + 3)"
   ]
  },
  {
   "cell_type": "code",
   "execution_count": 19,
   "id": "75c76acc",
   "metadata": {},
   "outputs": [
    {
     "data": {
      "text/plain": [
       "11.666666666666666"
      ]
     },
     "execution_count": 19,
     "metadata": {},
     "output_type": "execute_result"
    }
   ],
   "source": [
    "#期待値の線形性の性質を用いて、確率変数Xを変換した確率変数aX+bの期待値を、Xの期待値で求めることができる。\n",
    "#期待値の線形性：E(aX+b)=aE(X)+b  (a,bは実数　X：確率変数)\n",
    "\n",
    "#E(2X+3)が2E(X)+3と等しいかを確認\n",
    "2 * E(X) + 3"
   ]
  },
  {
   "cell_type": "code",
   "execution_count": 20,
   "id": "e0e26640",
   "metadata": {},
   "outputs": [
    {
     "data": {
      "text/plain": [
       "2.2222222222222223"
      ]
     },
     "execution_count": 20,
     "metadata": {},
     "output_type": "execute_result"
    }
   ],
   "source": [
    "#確率変数の分散\n",
    "#離散型確率変数の場合、分散は偏差の二乗の期待値として定義される\n",
    "\n",
    "#イカサマサイコロの分散\n",
    "mean = E(X)\n",
    "np.sum([(x_k - mean)**2 * f(x_k) for x_k in x_set])"
   ]
  },
  {
   "cell_type": "code",
   "execution_count": 21,
   "id": "3266d157",
   "metadata": {},
   "outputs": [],
   "source": [
    "#変換した確率変数について分散を定義\n",
    "#確率変数：Y=2X+3 引数gを確率変数に対する変換の関数とする。\n",
    "def V(X, g=lambda x: x):\n",
    "    x_set, f = X\n",
    "    mean = E(X, g)\n",
    "    return np.sum([(g(x_k) - mean)**2 * f(x_k) for x_k in x_set])"
   ]
  },
  {
   "cell_type": "code",
   "execution_count": 23,
   "id": "b0292999",
   "metadata": {},
   "outputs": [
    {
     "data": {
      "text/plain": [
       "2.2222222222222223"
      ]
     },
     "execution_count": 23,
     "metadata": {},
     "output_type": "execute_result"
    }
   ],
   "source": [
    "#gを指定しなければ、確率変数Xの分散を計算する\n",
    "V(X)"
   ]
  },
  {
   "cell_type": "code",
   "execution_count": 24,
   "id": "4e20d14c",
   "metadata": {},
   "outputs": [
    {
     "data": {
      "text/plain": [
       "8.88888888888889"
      ]
     },
     "execution_count": 24,
     "metadata": {},
     "output_type": "execute_result"
    }
   ],
   "source": [
    "#確率変数Y=2X+3の分散は次のように計算される\n",
    "V(X, lambda x: 2*x + 3)"
   ]
  },
  {
   "cell_type": "code",
   "execution_count": null,
   "id": "79d603eb",
   "metadata": {},
   "outputs": [],
   "source": []
  }
 ],
 "metadata": {
  "kernelspec": {
   "display_name": "Python 3",
   "language": "python",
   "name": "python3"
  },
  "language_info": {
   "codemirror_mode": {
    "name": "ipython",
    "version": 3
   },
   "file_extension": ".py",
   "mimetype": "text/x-python",
   "name": "python",
   "nbconvert_exporter": "python",
   "pygments_lexer": "ipython3",
   "version": "3.8.8"
  }
 },
 "nbformat": 4,
 "nbformat_minor": 5
}
